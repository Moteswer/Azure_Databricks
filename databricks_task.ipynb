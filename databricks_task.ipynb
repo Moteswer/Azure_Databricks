{
 "cells": [
  {
   "cell_type": "code",
   "execution_count": 0,
   "metadata": {
    "application/vnd.databricks.v1+cell": {
     "cellMetadata": {
      "byteLimit": 2048000,
      "rowLimit": 10000
     },
     "inputWidgets": {},
     "nuid": "2375be5e-9c7e-4f16-83e5-4c43efdca022",
     "showTitle": false,
     "title": ""
    }
   },
   "outputs": [
    {
     "output_type": "execute_result",
     "data": {
      "text/html": [
       "\n",
       "        <div>\n",
       "            <p><b>SparkContext</b></p>\n",
       "\n",
       "            <p><a href=\"/?o=2884656276051309#setting/sparkui/0724-155831-9u1b5qtm/driver-3568976472756152588\">Spark UI</a></p>\n",
       "\n",
       "            <dl>\n",
       "              <dt>Version</dt>\n",
       "                <dd><code>v3.5.0</code></dd>\n",
       "              <dt>Master</dt>\n",
       "                <dd><code>spark://10.139.64.4:7077</code></dd>\n",
       "              <dt>AppName</dt>\n",
       "                <dd><code>Databricks Shell</code></dd>\n",
       "            </dl>\n",
       "        </div>\n",
       "        "
      ],
      "text/plain": [
       "<SparkContext master=spark://10.139.64.4:7077 appName=Databricks Shell>"
      ]
     },
     "execution_count": 54,
     "metadata": {},
     "output_type": "execute_result"
    }
   ],
   "source": [
    "sc"
   ]
  },
  {
   "cell_type": "code",
   "execution_count": 0,
   "metadata": {
    "application/vnd.databricks.v1+cell": {
     "cellMetadata": {
      "byteLimit": 2048000,
      "rowLimit": 10000
     },
     "inputWidgets": {},
     "nuid": "85a0717e-5b69-490c-aacf-af04da4a9c1c",
     "showTitle": false,
     "title": ""
    }
   },
   "outputs": [
    {
     "output_type": "execute_result",
     "data": {
      "text/html": [
       "\n",
       "            <div>\n",
       "                <p><b>SparkSession - hive</b></p>\n",
       "                \n",
       "        <div>\n",
       "            <p><b>SparkContext</b></p>\n",
       "\n",
       "            <p><a href=\"/?o=2884656276051309#setting/sparkui/0724-155831-9u1b5qtm/driver-3568976472756152588\">Spark UI</a></p>\n",
       "\n",
       "            <dl>\n",
       "              <dt>Version</dt>\n",
       "                <dd><code>v3.5.0</code></dd>\n",
       "              <dt>Master</dt>\n",
       "                <dd><code>spark://10.139.64.4:7077</code></dd>\n",
       "              <dt>AppName</dt>\n",
       "                <dd><code>Databricks Shell</code></dd>\n",
       "            </dl>\n",
       "        </div>\n",
       "        \n",
       "            </div>\n",
       "        "
      ],
      "text/plain": [
       "<pyspark.sql.session.SparkSession at 0x7eff538af520>"
      ]
     },
     "execution_count": 55,
     "metadata": {},
     "output_type": "execute_result"
    }
   ],
   "source": [
    "spark"
   ]
  },
  {
   "cell_type": "code",
   "execution_count": 0,
   "metadata": {
    "application/vnd.databricks.v1+cell": {
     "cellMetadata": {
      "byteLimit": 2048000,
      "rowLimit": 10000
     },
     "inputWidgets": {},
     "nuid": "9a0822d3-38ea-44db-8107-024580bec3ce",
     "showTitle": false,
     "title": ""
    }
   },
   "outputs": [
    {
     "output_type": "stream",
     "name": "stdout",
     "output_type": "stream",
     "text": [
      "CSV files created successfully.\n"
     ]
    }
   ],
   "source": [
    "import pandas as pd\n",
    "\n",
    "transactions_data = {\n",
    "    'transaction_id': [1, 2, 3, 4, 5, 6, 7, 8, 9, 10,\n",
    "                        11, 12, 13, 14, 15, 16, 17, 18, 19, 20],\n",
    "    'customer_id': [101, 102, 103, 101, 104, 102, 101, 103, 104, 102,\n",
    "                    101, 103, 104, 102, 101, 103, 104, 102, 101, 103],\n",
    "    'product_id': [1, 2, 3, 1, 3, 2, 3, 1, 2, 1,\n",
    "                   2, 3, 1, 2, 3, 1, 2, 1, 3, 2],\n",
    "    'quantity': [2, 1, 3, 2, 1, 4, 2, 1, 3, 2,\n",
    "                 1, 2, 3, 2, 1, 4, 1, 2, 3, 2],\n",
    "    'amount': [20.5, 15.2, 40.0, 25.0, 10.5, 30.0, 18.0, 12.5, 35.0, 22.0,\n",
    "               15.0, 36.0, 30.0, 20.0, 12.0, 40.0, 10.0, 24.0, 27.0, 18.0]\n",
    "}\n",
    "\n",
    "customers_data = {\n",
    "    'customer_id': [101, 102, 103, 104, 105, 106, 107, 108, 109, 110,\n",
    "                    111, 112, 113, 114, 115],\n",
    "    'name': ['Alice', 'Bob', 'Charlie', 'David', 'Eve', 'Frank', 'Grace',\n",
    "             'Henry', 'Isabel', 'Jack', 'Kate', 'Liam', 'Mia', 'Noah', 'Olivia'],\n",
    "    'age': [30, 35, 40, 28, 45, 33, 29, 32, 37, 31, 27, 39, 26, 34, 36],\n",
    "    'location': ['New York', 'California', 'Texas', 'Florida', 'Washington',\n",
    "                 'Colorado', 'Arizona', 'Nevada', 'Oregon', 'Utah',\n",
    "                 'Georgia', 'Minnesota', 'Illinois', 'Maryland', 'Massachusetts']\n",
    "}\n",
    "\n",
    "products_data = {\n",
    "    'product_id': [1, 2, 3, 4, 5, 6, 7, 8, 9, 10,\n",
    "                   11, 12, 13, 14, 15],\n",
    "    'name': ['Laptop', 'T-Shirt', 'Coffee Maker', 'Headphones', 'Jeans',\n",
    "             'Blender', 'Smartphone', 'Dress', 'Smart Watch', 'Sneakers',\n",
    "             'Toaster', 'Tablet', 'Skirt', 'Pressure Cooker', 'TV'],\n",
    "    'category': ['Electronics', 'Clothing', 'Home & Kitchen', 'Electronics',\n",
    "                 'Clothing', 'Home & Kitchen', 'Electronics', 'Clothing',\n",
    "                 'Electronics', 'Clothing', 'Home & Kitchen', 'Electronics',\n",
    "                 'Clothing', 'Home & Kitchen', 'Electronics'],\n",
    "    'price': [1200.0, 25.0, 50.0, 80.0, 45.0, 60.0, 1000.0, 30.0, 150.0, 50.0,\n",
    "              35.0, 800.0, 20.0, 70.0, 1500.0]\n",
    "}\n",
    "\n",
    "transactions_df = pd.DataFrame(transactions_data)\n",
    "customers_df = pd.DataFrame(customers_data)\n",
    "products_df = pd.DataFrame(products_data)\n",
    "\n",
    "transactions_df.to_csv('Transactions.csv', index=False)\n",
    "customers_df.to_csv('Customers.csv', index=False)\n",
    "products_df.to_csv('Products.csv', index=False)\n",
    "\n",
    "print(\"CSV files created successfully.\")\n"
   ]
  },
  {
   "cell_type": "code",
   "execution_count": 0,
   "metadata": {
    "application/vnd.databricks.v1+cell": {
     "cellMetadata": {
      "byteLimit": 2048000,
      "rowLimit": 10000
     },
     "inputWidgets": {},
     "nuid": "14c1b52c-ea92-4537-99a0-c22bb48cdf45",
     "showTitle": false,
     "title": ""
    }
   },
   "outputs": [],
   "source": [
    "transactions_df = spark.read.csv(\n",
    "    \"file:/Workspace/Users/moteswer99@gmail.com/Transactions.csv\",\n",
    "    header=True,\n",
    "    inferSchema=True\n",
    ")\n",
    "customers_df = spark.read.csv(\n",
    "    \"file:/Workspace/Users/moteswer99@gmail.com/Customers.csv\",\n",
    "    header=True,\n",
    "    inferSchema=True\n",
    ")\n",
    "products_df = spark.read.csv(\n",
    "    \"file:/Workspace/Users/moteswer99@gmail.com/Products.csv\",\n",
    "    header=True,\n",
    "    inferSchema=True\n",
    ")\n",
    "\n"
   ]
  },
  {
   "cell_type": "code",
   "execution_count": 0,
   "metadata": {
    "application/vnd.databricks.v1+cell": {
     "cellMetadata": {
      "byteLimit": 2048000,
      "rowLimit": 10000
     },
     "inputWidgets": {},
     "nuid": "3b15b9fa-b562-457d-b677-164d91edcec2",
     "showTitle": false,
     "title": ""
    }
   },
   "outputs": [
    {
     "output_type": "stream",
     "name": "stdout",
     "output_type": "stream",
     "text": [
      "first few rows of all the dataframes\n+--------------+-----------+----------+--------+------+\n|transaction_id|customer_id|product_id|quantity|amount|\n+--------------+-----------+----------+--------+------+\n|             1|        101|         1|       2|  20.5|\n|             2|        102|         2|       1|  15.2|\n|             3|        103|         3|       3|  40.0|\n|             4|        101|         1|       2|  25.0|\n|             5|        104|         3|       1|  10.5|\n|             6|        102|         2|       4|  30.0|\n|             7|        101|         3|       2|  18.0|\n|             8|        103|         1|       1|  12.5|\n|             9|        104|         2|       3|  35.0|\n|            10|        102|         1|       2|  22.0|\n|            11|        101|         2|       1|  15.0|\n|            12|        103|         3|       2|  36.0|\n|            13|        104|         1|       3|  30.0|\n|            14|        102|         2|       2|  20.0|\n|            15|        101|         3|       1|  12.0|\n|            16|        103|         1|       4|  40.0|\n|            17|        104|         2|       1|  10.0|\n|            18|        102|         1|       2|  24.0|\n|            19|        101|         3|       3|  27.0|\n|            20|        103|         2|       2|  18.0|\n+--------------+-----------+----------+--------+------+\n\n+-----------+-------+---+-------------+\n|customer_id|   name|age|     location|\n+-----------+-------+---+-------------+\n|        101|  Alice| 30|     New York|\n|        102|    Bob| 35|   California|\n|        103|Charlie| 40|        Texas|\n|        104|  David| 28|      Florida|\n|        105|    Eve| 45|   Washington|\n|        106|  Frank| 33|     Colorado|\n|        107|  Grace| 29|      Arizona|\n|        108|  Henry| 32|       Nevada|\n|        109| Isabel| 37|       Oregon|\n|        110|   Jack| 31|         Utah|\n|        111|   Kate| 27|      Georgia|\n|        112|   Liam| 39|    Minnesota|\n|        113|    Mia| 26|     Illinois|\n|        114|   Noah| 34|     Maryland|\n|        115| Olivia| 36|Massachusetts|\n+-----------+-------+---+-------------+\n\n+----------+---------------+--------------+------+\n|product_id|           name|      category| price|\n+----------+---------------+--------------+------+\n|         1|         Laptop|   Electronics|1200.0|\n|         2|        T-Shirt|      Clothing|  25.0|\n|         3|   Coffee Maker|Home & Kitchen|  50.0|\n|         4|     Headphones|   Electronics|  80.0|\n|         5|          Jeans|      Clothing|  45.0|\n|         6|        Blender|Home & Kitchen|  60.0|\n|         7|     Smartphone|   Electronics|1000.0|\n|         8|          Dress|      Clothing|  30.0|\n|         9|    Smart Watch|   Electronics| 150.0|\n|        10|       Sneakers|      Clothing|  50.0|\n|        11|        Toaster|Home & Kitchen|  35.0|\n|        12|         Tablet|   Electronics| 800.0|\n|        13|          Skirt|      Clothing|  20.0|\n|        14|Pressure Cooker|Home & Kitchen|  70.0|\n|        15|             TV|   Electronics|1500.0|\n+----------+---------------+--------------+------+\n\nNumerical columns\n+-------+-----------------+------------------+------------------+------------------+----------------+\n|summary|   transaction_id|       customer_id|        product_id|          quantity|          amount|\n+-------+-----------------+------------------+------------------+------------------+----------------+\n|  count|               20|                20|                20|                20|              20|\n|   mean|             10.5|            102.35|              1.95|               2.1|          23.035|\n| stddev|5.916079783099616|1.1367080817685313|0.8255779474818965|0.9679060415469872|9.61787124931609|\n|    min|                1|               101|                 1|                 1|            10.0|\n|    max|               20|               104|                 3|                 4|            40.0|\n+-------+-----------------+------------------+------------------+------------------+----------------+\n\n"
     ]
    }
   ],
   "source": [
    "print(\"first few rows of all the dataframes\")\n",
    "transactions_df.show()\n",
    "customers_df.show()\n",
    "products_df.show()\n",
    "\n",
    "print(\"Numerical columns\")\n",
    "transactions_df.describe().show()\n",
    "\n",
    "\n"
   ]
  },
  {
   "cell_type": "code",
   "execution_count": 0,
   "metadata": {
    "application/vnd.databricks.v1+cell": {
     "cellMetadata": {
      "byteLimit": 2048000,
      "rowLimit": 10000
     },
     "inputWidgets": {},
     "nuid": "07384f45-9384-408c-9aa2-6c3769ccc8bf",
     "showTitle": false,
     "title": ""
    }
   },
   "outputs": [
    {
     "output_type": "stream",
     "name": "stdout",
     "output_type": "stream",
     "text": [
      "Count rows in each dataframe\nTransactions count: 20\nCustomers count: 15\nProducts count: 15\n"
     ]
    }
   ],
   "source": [
    "print(\"Count rows in each dataframe\")\n",
    "transactions_count = transactions_df.count()\n",
    "customers_count = customers_df.count()\n",
    "products_count = products_df.count()\n",
    "\n",
    "print(f\"Transactions count: {transactions_count}\")\n",
    "print(f\"Customers count: {customers_count}\")\n",
    "print(f\"Products count: {products_count}\")"
   ]
  },
  {
   "cell_type": "code",
   "execution_count": 0,
   "metadata": {
    "application/vnd.databricks.v1+cell": {
     "cellMetadata": {
      "byteLimit": 2048000,
      "rowLimit": 10000
     },
     "inputWidgets": {},
     "nuid": "a3e5f8c3-4ef2-46f8-864d-f2c4b8d2f808",
     "showTitle": false,
     "title": ""
    }
   },
   "outputs": [],
   "source": [
    "transactions_df.createOrReplaceTempView(\"transactions\")\n",
    "customers_df.createOrReplaceTempView(\"customers\")\n",
    "products_df.createOrReplaceTempView(\"products\")\n"
   ]
  },
  {
   "cell_type": "code",
   "execution_count": 0,
   "metadata": {
    "application/vnd.databricks.v1+cell": {
     "cellMetadata": {
      "byteLimit": 2048000,
      "implicitDf": true,
      "rowLimit": 10000
     },
     "inputWidgets": {},
     "nuid": "12fe614f-99a5-4fa8-a32c-793a35d0a60c",
     "showTitle": false,
     "title": ""
    }
   },
   "outputs": [
    {
     "output_type": "display_data",
     "data": {
      "text/html": [
       "<style scoped>\n",
       "  .table-result-container {\n",
       "    max-height: 300px;\n",
       "    overflow: auto;\n",
       "  }\n",
       "  table, th, td {\n",
       "    border: 1px solid black;\n",
       "    border-collapse: collapse;\n",
       "  }\n",
       "  th, td {\n",
       "    padding: 5px;\n",
       "  }\n",
       "  th {\n",
       "    text-align: left;\n",
       "  }\n",
       "</style><div class='table-result-container'><table class='table-result'><thead style='background-color: white'><tr><th>transaction_id</th><th>customer_id</th><th>product_id</th><th>quantity</th><th>amount</th></tr></thead><tbody><tr><td>1</td><td>101</td><td>1</td><td>2</td><td>20.5</td></tr><tr><td>2</td><td>102</td><td>2</td><td>1</td><td>15.2</td></tr><tr><td>3</td><td>103</td><td>3</td><td>3</td><td>40.0</td></tr><tr><td>4</td><td>101</td><td>1</td><td>2</td><td>25.0</td></tr><tr><td>5</td><td>104</td><td>3</td><td>1</td><td>10.5</td></tr><tr><td>6</td><td>102</td><td>2</td><td>4</td><td>30.0</td></tr><tr><td>7</td><td>101</td><td>3</td><td>2</td><td>18.0</td></tr><tr><td>8</td><td>103</td><td>1</td><td>1</td><td>12.5</td></tr><tr><td>9</td><td>104</td><td>2</td><td>3</td><td>35.0</td></tr><tr><td>10</td><td>102</td><td>1</td><td>2</td><td>22.0</td></tr><tr><td>11</td><td>101</td><td>2</td><td>1</td><td>15.0</td></tr><tr><td>12</td><td>103</td><td>3</td><td>2</td><td>36.0</td></tr><tr><td>13</td><td>104</td><td>1</td><td>3</td><td>30.0</td></tr><tr><td>14</td><td>102</td><td>2</td><td>2</td><td>20.0</td></tr><tr><td>15</td><td>101</td><td>3</td><td>1</td><td>12.0</td></tr><tr><td>16</td><td>103</td><td>1</td><td>4</td><td>40.0</td></tr><tr><td>17</td><td>104</td><td>2</td><td>1</td><td>10.0</td></tr><tr><td>18</td><td>102</td><td>1</td><td>2</td><td>24.0</td></tr><tr><td>19</td><td>101</td><td>3</td><td>3</td><td>27.0</td></tr><tr><td>20</td><td>103</td><td>2</td><td>2</td><td>18.0</td></tr></tbody></table></div>"
      ]
     },
     "metadata": {
      "application/vnd.databricks.v1+output": {
       "addedWidgets": {},
       "aggData": [],
       "aggError": "",
       "aggOverflow": false,
       "aggSchema": [],
       "aggSeriesLimitReached": false,
       "aggType": "",
       "arguments": {},
       "columnCustomDisplayInfos": {},
       "data": [
        [
         1,
         101,
         1,
         2,
         20.5
        ],
        [
         2,
         102,
         2,
         1,
         15.2
        ],
        [
         3,
         103,
         3,
         3,
         40.0
        ],
        [
         4,
         101,
         1,
         2,
         25.0
        ],
        [
         5,
         104,
         3,
         1,
         10.5
        ],
        [
         6,
         102,
         2,
         4,
         30.0
        ],
        [
         7,
         101,
         3,
         2,
         18.0
        ],
        [
         8,
         103,
         1,
         1,
         12.5
        ],
        [
         9,
         104,
         2,
         3,
         35.0
        ],
        [
         10,
         102,
         1,
         2,
         22.0
        ],
        [
         11,
         101,
         2,
         1,
         15.0
        ],
        [
         12,
         103,
         3,
         2,
         36.0
        ],
        [
         13,
         104,
         1,
         3,
         30.0
        ],
        [
         14,
         102,
         2,
         2,
         20.0
        ],
        [
         15,
         101,
         3,
         1,
         12.0
        ],
        [
         16,
         103,
         1,
         4,
         40.0
        ],
        [
         17,
         104,
         2,
         1,
         10.0
        ],
        [
         18,
         102,
         1,
         2,
         24.0
        ],
        [
         19,
         101,
         3,
         3,
         27.0
        ],
        [
         20,
         103,
         2,
         2,
         18.0
        ]
       ],
       "datasetInfos": [],
       "dbfsResultPath": null,
       "isJsonSchema": true,
       "metadata": {
        "dataframeName": "_sqldf",
        "executionCount": 65
       },
       "overflow": false,
       "plotOptions": {
        "customPlotOptions": {},
        "displayType": "table",
        "pivotAggregation": null,
        "pivotColumns": null,
        "xColumns": null,
        "yColumns": null
       },
       "removedWidgets": [],
       "schema": [
        {
         "metadata": "{}",
         "name": "transaction_id",
         "type": "\"integer\""
        },
        {
         "metadata": "{}",
         "name": "customer_id",
         "type": "\"integer\""
        },
        {
         "metadata": "{}",
         "name": "product_id",
         "type": "\"integer\""
        },
        {
         "metadata": "{}",
         "name": "quantity",
         "type": "\"integer\""
        },
        {
         "metadata": "{}",
         "name": "amount",
         "type": "\"double\""
        }
       ],
       "type": "table"
      }
     },
     "output_type": "display_data"
    }
   ],
   "source": [
    "%sql\n",
    "select * from transactions"
   ]
  },
  {
   "cell_type": "code",
   "execution_count": 0,
   "metadata": {
    "application/vnd.databricks.v1+cell": {
     "cellMetadata": {
      "byteLimit": 2048000,
      "rowLimit": 10000
     },
     "inputWidgets": {},
     "nuid": "3b9a068d-381d-45f5-a77a-83bb7e136436",
     "showTitle": false,
     "title": ""
    }
   },
   "outputs": [
    {
     "output_type": "stream",
     "name": "stdout",
     "output_type": "stream",
     "text": [
      "JOINING TRANSACTIONS WITH CUSTOMERS TABLE\n"
     ]
    },
    {
     "output_type": "display_data",
     "data": {
      "text/html": [
       "<style scoped>\n",
       "  .table-result-container {\n",
       "    max-height: 300px;\n",
       "    overflow: auto;\n",
       "  }\n",
       "  table, th, td {\n",
       "    border: 1px solid black;\n",
       "    border-collapse: collapse;\n",
       "  }\n",
       "  th, td {\n",
       "    padding: 5px;\n",
       "  }\n",
       "  th {\n",
       "    text-align: left;\n",
       "  }\n",
       "</style><div class='table-result-container'><table class='table-result'><thead style='background-color: white'><tr><th>transaction_id</th><th>customer_id</th><th>product_id</th><th>quantity</th><th>amount</th><th>customer_name</th><th>customer_age</th><th>customer_location</th></tr></thead><tbody><tr><td>1</td><td>101</td><td>1</td><td>2</td><td>20.5</td><td>Alice</td><td>30</td><td>New York</td></tr><tr><td>2</td><td>102</td><td>2</td><td>1</td><td>15.2</td><td>Bob</td><td>35</td><td>California</td></tr><tr><td>3</td><td>103</td><td>3</td><td>3</td><td>40.0</td><td>Charlie</td><td>40</td><td>Texas</td></tr><tr><td>4</td><td>101</td><td>1</td><td>2</td><td>25.0</td><td>Alice</td><td>30</td><td>New York</td></tr><tr><td>5</td><td>104</td><td>3</td><td>1</td><td>10.5</td><td>David</td><td>28</td><td>Florida</td></tr><tr><td>6</td><td>102</td><td>2</td><td>4</td><td>30.0</td><td>Bob</td><td>35</td><td>California</td></tr><tr><td>7</td><td>101</td><td>3</td><td>2</td><td>18.0</td><td>Alice</td><td>30</td><td>New York</td></tr><tr><td>8</td><td>103</td><td>1</td><td>1</td><td>12.5</td><td>Charlie</td><td>40</td><td>Texas</td></tr><tr><td>9</td><td>104</td><td>2</td><td>3</td><td>35.0</td><td>David</td><td>28</td><td>Florida</td></tr><tr><td>10</td><td>102</td><td>1</td><td>2</td><td>22.0</td><td>Bob</td><td>35</td><td>California</td></tr><tr><td>11</td><td>101</td><td>2</td><td>1</td><td>15.0</td><td>Alice</td><td>30</td><td>New York</td></tr><tr><td>12</td><td>103</td><td>3</td><td>2</td><td>36.0</td><td>Charlie</td><td>40</td><td>Texas</td></tr><tr><td>13</td><td>104</td><td>1</td><td>3</td><td>30.0</td><td>David</td><td>28</td><td>Florida</td></tr><tr><td>14</td><td>102</td><td>2</td><td>2</td><td>20.0</td><td>Bob</td><td>35</td><td>California</td></tr><tr><td>15</td><td>101</td><td>3</td><td>1</td><td>12.0</td><td>Alice</td><td>30</td><td>New York</td></tr><tr><td>16</td><td>103</td><td>1</td><td>4</td><td>40.0</td><td>Charlie</td><td>40</td><td>Texas</td></tr><tr><td>17</td><td>104</td><td>2</td><td>1</td><td>10.0</td><td>David</td><td>28</td><td>Florida</td></tr><tr><td>18</td><td>102</td><td>1</td><td>2</td><td>24.0</td><td>Bob</td><td>35</td><td>California</td></tr><tr><td>19</td><td>101</td><td>3</td><td>3</td><td>27.0</td><td>Alice</td><td>30</td><td>New York</td></tr><tr><td>20</td><td>103</td><td>2</td><td>2</td><td>18.0</td><td>Charlie</td><td>40</td><td>Texas</td></tr></tbody></table></div>"
      ]
     },
     "metadata": {
      "application/vnd.databricks.v1+output": {
       "addedWidgets": {},
       "aggData": [],
       "aggError": "",
       "aggOverflow": false,
       "aggSchema": [],
       "aggSeriesLimitReached": false,
       "aggType": "",
       "arguments": {},
       "columnCustomDisplayInfos": {},
       "data": [
        [
         1,
         101,
         1,
         2,
         20.5,
         "Alice",
         30,
         "New York"
        ],
        [
         2,
         102,
         2,
         1,
         15.2,
         "Bob",
         35,
         "California"
        ],
        [
         3,
         103,
         3,
         3,
         40.0,
         "Charlie",
         40,
         "Texas"
        ],
        [
         4,
         101,
         1,
         2,
         25.0,
         "Alice",
         30,
         "New York"
        ],
        [
         5,
         104,
         3,
         1,
         10.5,
         "David",
         28,
         "Florida"
        ],
        [
         6,
         102,
         2,
         4,
         30.0,
         "Bob",
         35,
         "California"
        ],
        [
         7,
         101,
         3,
         2,
         18.0,
         "Alice",
         30,
         "New York"
        ],
        [
         8,
         103,
         1,
         1,
         12.5,
         "Charlie",
         40,
         "Texas"
        ],
        [
         9,
         104,
         2,
         3,
         35.0,
         "David",
         28,
         "Florida"
        ],
        [
         10,
         102,
         1,
         2,
         22.0,
         "Bob",
         35,
         "California"
        ],
        [
         11,
         101,
         2,
         1,
         15.0,
         "Alice",
         30,
         "New York"
        ],
        [
         12,
         103,
         3,
         2,
         36.0,
         "Charlie",
         40,
         "Texas"
        ],
        [
         13,
         104,
         1,
         3,
         30.0,
         "David",
         28,
         "Florida"
        ],
        [
         14,
         102,
         2,
         2,
         20.0,
         "Bob",
         35,
         "California"
        ],
        [
         15,
         101,
         3,
         1,
         12.0,
         "Alice",
         30,
         "New York"
        ],
        [
         16,
         103,
         1,
         4,
         40.0,
         "Charlie",
         40,
         "Texas"
        ],
        [
         17,
         104,
         2,
         1,
         10.0,
         "David",
         28,
         "Florida"
        ],
        [
         18,
         102,
         1,
         2,
         24.0,
         "Bob",
         35,
         "California"
        ],
        [
         19,
         101,
         3,
         3,
         27.0,
         "Alice",
         30,
         "New York"
        ],
        [
         20,
         103,
         2,
         2,
         18.0,
         "Charlie",
         40,
         "Texas"
        ]
       ],
       "datasetInfos": [],
       "dbfsResultPath": null,
       "isJsonSchema": true,
       "metadata": {},
       "overflow": false,
       "plotOptions": {
        "customPlotOptions": {},
        "displayType": "table",
        "pivotAggregation": null,
        "pivotColumns": null,
        "xColumns": null,
        "yColumns": null
       },
       "removedWidgets": [],
       "schema": [
        {
         "metadata": "{}",
         "name": "transaction_id",
         "type": "\"integer\""
        },
        {
         "metadata": "{}",
         "name": "customer_id",
         "type": "\"integer\""
        },
        {
         "metadata": "{}",
         "name": "product_id",
         "type": "\"integer\""
        },
        {
         "metadata": "{}",
         "name": "quantity",
         "type": "\"integer\""
        },
        {
         "metadata": "{}",
         "name": "amount",
         "type": "\"double\""
        },
        {
         "metadata": "{}",
         "name": "customer_name",
         "type": "\"string\""
        },
        {
         "metadata": "{}",
         "name": "customer_age",
         "type": "\"integer\""
        },
        {
         "metadata": "{}",
         "name": "customer_location",
         "type": "\"string\""
        }
       ],
       "type": "table"
      }
     },
     "output_type": "display_data"
    }
   ],
   "source": [
    "print(\"JOINING TRANSACTIONS WITH CUSTOMERS TABLE\")\n",
    "\n",
    "joined_df = spark.sql(\"\"\"\n",
    "    SELECT t.transaction_id, t.customer_id, t.product_id, t.quantity, t.amount,\n",
    "           c.name AS customer_name, c.age AS customer_age, c.location AS customer_location\n",
    "    FROM transactions AS t\n",
    "    JOIN customers AS c ON t.customer_id = c.customer_id\n",
    "\"\"\")\n",
    "display(joined_df)"
   ]
  },
  {
   "cell_type": "code",
   "execution_count": 0,
   "metadata": {
    "application/vnd.databricks.v1+cell": {
     "cellMetadata": {
      "byteLimit": 2048000,
      "rowLimit": 10000
     },
     "inputWidgets": {},
     "nuid": "3e394716-621e-4bd1-b3f2-9d6bc0b3273e",
     "showTitle": false,
     "title": ""
    }
   },
   "outputs": [
    {
     "output_type": "execute_result",
     "data": {
      "text/plain": [
       "DataFrame[transaction_id: int, customer_id: int, product_id: int, quantity: int, amount: double]"
      ]
     },
     "execution_count": 70,
     "metadata": {},
     "output_type": "execute_result"
    }
   ],
   "source": [
    "transactions_df_repartitioned = transactions_df.repartition(\"customer_id\")\n",
    "transactions_df_repartitioned.cache()"
   ]
  },
  {
   "cell_type": "code",
   "execution_count": 0,
   "metadata": {
    "application/vnd.databricks.v1+cell": {
     "cellMetadata": {
      "byteLimit": 2048000,
      "rowLimit": 10000
     },
     "inputWidgets": {},
     "nuid": "d6edf3f7-6c70-455a-a6a4-71ca538975ad",
     "showTitle": false,
     "title": ""
    }
   },
   "outputs": [
    {
     "output_type": "stream",
     "name": "stdout",
     "output_type": "stream",
     "text": [
      "CALCULATING AVERAGE ORDER VALUE\n"
     ]
    },
    {
     "output_type": "display_data",
     "data": {
      "text/html": [
       "<style scoped>\n",
       "  .table-result-container {\n",
       "    max-height: 300px;\n",
       "    overflow: auto;\n",
       "  }\n",
       "  table, th, td {\n",
       "    border: 1px solid black;\n",
       "    border-collapse: collapse;\n",
       "  }\n",
       "  th, td {\n",
       "    padding: 5px;\n",
       "  }\n",
       "  th {\n",
       "    text-align: left;\n",
       "  }\n",
       "</style><div class='table-result-container'><table class='table-result'><thead style='background-color: white'><tr><th>customer_id</th><th>avg(amount)</th></tr></thead><tbody><tr><td>101</td><td>19.583333333333332</td></tr><tr><td>103</td><td>29.3</td></tr><tr><td>102</td><td>22.240000000000002</td></tr><tr><td>104</td><td>21.375</td></tr></tbody></table></div>"
      ]
     },
     "metadata": {
      "application/vnd.databricks.v1+output": {
       "addedWidgets": {},
       "aggData": [],
       "aggError": "",
       "aggOverflow": false,
       "aggSchema": [],
       "aggSeriesLimitReached": false,
       "aggType": "",
       "arguments": {},
       "columnCustomDisplayInfos": {},
       "data": [
        [
         101,
         19.583333333333332
        ],
        [
         103,
         29.3
        ],
        [
         102,
         22.240000000000002
        ],
        [
         104,
         21.375
        ]
       ],
       "datasetInfos": [],
       "dbfsResultPath": null,
       "isJsonSchema": true,
       "metadata": {},
       "overflow": false,
       "plotOptions": {
        "customPlotOptions": {},
        "displayType": "table",
        "pivotAggregation": null,
        "pivotColumns": null,
        "xColumns": null,
        "yColumns": null
       },
       "removedWidgets": [],
       "schema": [
        {
         "metadata": "{}",
         "name": "customer_id",
         "type": "\"integer\""
        },
        {
         "metadata": "{}",
         "name": "avg(amount)",
         "type": "\"double\""
        }
       ],
       "type": "table"
      }
     },
     "output_type": "display_data"
    }
   ],
   "source": [
    "print(\"CALCULATING AVERAGE ORDER VALUE\")\n",
    "\n",
    "average_order_value = joined_df.groupBy(\"customer_id\").avg(\"amount\")\n",
    "display(average_order_value)"
   ]
  },
  {
   "cell_type": "code",
   "execution_count": 0,
   "metadata": {
    "application/vnd.databricks.v1+cell": {
     "cellMetadata": {
      "byteLimit": 2048000,
      "rowLimit": 10000
     },
     "inputWidgets": {},
     "nuid": "cdcb158f-76ef-410b-a37d-f5d03209cfcc",
     "showTitle": false,
     "title": ""
    }
   },
   "outputs": [
    {
     "output_type": "stream",
     "name": "stdout",
     "output_type": "stream",
     "text": [
      "TOP SELLING PRODUCTS\n+----------+-------------+\n|product_id|sum(quantity)|\n+----------+-------------+\n|         1|           16|\n|         2|           14|\n|         3|           12|\n+----------+-------------+\n\n"
     ]
    }
   ],
   "source": [
    "print(\"TOP SELLING PRODUCTS\")\n",
    "top_selling_products = joined_df.groupBy(\"product_id\").sum(\"quantity\").orderBy(\"sum(quantity)\", ascending=False)\n",
    "top_selling_products.show()\n"
   ]
  },
  {
   "cell_type": "code",
   "execution_count": 0,
   "metadata": {
    "application/vnd.databricks.v1+cell": {
     "cellMetadata": {
      "byteLimit": 2048000,
      "rowLimit": 10000
     },
     "inputWidgets": {},
     "nuid": "a9a8b10e-72c9-47c8-ad6f-38b6c69da8a5",
     "showTitle": false,
     "title": ""
    }
   },
   "outputs": [
    {
     "output_type": "stream",
     "name": "stdout",
     "output_type": "stream",
     "text": [
      "TOTAL REVENUE BY PRODUCT CATEGORY\n+--------------+-------------+\n|      category|total_revenue|\n+--------------+-------------+\n|Home & Kitchen|        143.5|\n|   Electronics|        174.0|\n|      Clothing|        143.2|\n+--------------+-------------+\n\n"
     ]
    }
   ],
   "source": [
    "print(\"TOTAL REVENUE BY PRODUCT CATEGORY\")\n",
    "\n",
    "total_revenue_by_category = spark.sql(\"\"\"\n",
    "    SELECT p.category, sum(t.amount) AS total_revenue\n",
    "    FROM transactions t\n",
    "    JOIN products p ON t.product_id = p.product_id\n",
    "    GROUP BY p.category\n",
    "\"\"\")\n",
    "total_revenue_by_category.show()\n"
   ]
  },
  {
   "cell_type": "code",
   "execution_count": 0,
   "metadata": {
    "application/vnd.databricks.v1+cell": {
     "cellMetadata": {
      "byteLimit": 2048000,
      "rowLimit": 10000
     },
     "inputWidgets": {},
     "nuid": "0d6f9946-9ea8-4223-a414-c526040fa27c",
     "showTitle": false,
     "title": ""
    }
   },
   "outputs": [
    {
     "output_type": "stream",
     "name": "stdout",
     "output_type": "stream",
     "text": [
      "REPEATED CUSTOMERS\n+-----------+-----+\n|customer_id|count|\n+-----------+-----+\n|        101|    6|\n|        103|    5|\n|        102|    5|\n|        104|    4|\n+-----------+-----+\n\n"
     ]
    }
   ],
   "source": [
    "print(\"REPEATED CUSTOMERS\")\n",
    "\n",
    "\n",
    "\n",
    "\n",
    "\n",
    "repeat_customers = transactions_df.groupBy(\"customer_id\").count().filter(\"count > 1\")\n",
    "repeat_customers.show()\n",
    "\n",
    "\n",
    "\n",
    "\n",
    "\n"
   ]
  },
  {
   "cell_type": "code",
   "execution_count": 0,
   "metadata": {
    "application/vnd.databricks.v1+cell": {
     "cellMetadata": {
      "byteLimit": 2048000,
      "rowLimit": 10000
     },
     "inputWidgets": {},
     "nuid": "80690b9e-d5fc-4c47-b5b0-621cf7af3bb6",
     "showTitle": false,
     "title": ""
    }
   },
   "outputs": [
    {
     "output_type": "stream",
     "name": "stdout",
     "output_type": "stream",
     "text": [
      "PRODUCT WISE SALES QUANTITY\n+------------+-------------------+\n|product_name|total_quantity_sold|\n+------------+-------------------+\n|      Laptop|                 16|\n|     T-Shirt|                 14|\n|Coffee Maker|                 12|\n+------------+-------------------+\n\n"
     ]
    }
   ],
   "source": [
    "\n",
    "print(\"PRODUCT WISE SALES QUANTITY\")\n",
    "\n",
    "product_sales_quantity = spark.sql(\"\"\"\n",
    "    SELECT p.name AS product_name, sum(t.quantity) AS total_quantity_sold\n",
    "    FROM transactions t\n",
    "    JOIN products p ON t.product_id = p.product_id\n",
    "    GROUP BY p.name\n",
    "\"\"\")\n",
    "product_sales_quantity.show()"
   ]
  },
  {
   "cell_type": "code",
   "execution_count": 0,
   "metadata": {
    "application/vnd.databricks.v1+cell": {
     "cellMetadata": {},
     "inputWidgets": {},
     "nuid": "d9d98b15-d946-4c75-9833-e5e722babf6d",
     "showTitle": false,
     "title": ""
    }
   },
   "outputs": [],
   "source": []
  }
 ],
 "metadata": {
  "application/vnd.databricks.v1+notebook": {
   "dashboards": [],
   "environmentMetadata": null,
   "language": "python",
   "notebookMetadata": {
    "mostRecentlyExecutedCommandWithImplicitDF": {
     "commandId": 1275568329386070,
     "dataframes": [
      "_sqldf"
     ]
    },
    "pythonIndentUnit": 4
   },
   "notebookName": "work",
   "widgets": {}
  }
 },
 "nbformat": 4,
 "nbformat_minor": 0
}
