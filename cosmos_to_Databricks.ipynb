{
 "cells": [
  {
   "cell_type": "code",
   "execution_count": 0,
   "metadata": {
    "application/vnd.databricks.v1+cell": {
     "cellMetadata": {
      "byteLimit": 2048000,
      "rowLimit": 10000
     },
     "inputWidgets": {},
     "nuid": "f9bbdbcd-c483-4fd7-b544-30f73e4bd33c",
     "showTitle": false,
     "title": ""
    }
   },
   "outputs": [
    {
     "output_type": "display_data",
     "data": {
      "text/html": [
       "<style scoped>\n",
       "  .table-result-container {\n",
       "    max-height: 300px;\n",
       "    overflow: auto;\n",
       "  }\n",
       "  table, th, td {\n",
       "    border: 1px solid black;\n",
       "    border-collapse: collapse;\n",
       "  }\n",
       "  th, td {\n",
       "    padding: 5px;\n",
       "  }\n",
       "  th {\n",
       "    text-align: left;\n",
       "  }\n",
       "</style><div class='table-result-container'><table class='table-result'><thead style='background-color: white'><tr><th>email</th><th>lastName</th><th>firstName</th><th>id</th><th>address</th><th>registrationDate</th><th>phone</th></tr></thead><tbody><tr><td>john.doe@example.com</td><td>Doe</td><td>John</td><td>1</td><td>List(123 Elm St, Hometown, CA, 90001)</td><td>2024-01-15</td><td>+1234567890</td></tr><tr><td>jane.smith@example.com</td><td>Smith</td><td>Jane</td><td>2</td><td>List(456 Oak St, Newville, TX, 75001)</td><td>2024-01-20</td><td>+0987654321</td></tr><tr><td>alice.johnson@example.com</td><td>Johnson</td><td>Alice</td><td>3</td><td>List(789 Pine St, Oldtown, FL, 32101)</td><td>2024-01-25</td><td>+1230984567</td></tr><tr><td>bob.williams@example.com</td><td>Williams</td><td>Bob</td><td>4</td><td>List(101 Maple St, Lakeside, WA, 98001)</td><td>2024-02-01</td><td>+4567890123</td></tr><tr><td>charlie.brown@example.com</td><td>Brown</td><td>Charlie</td><td>5</td><td>List(202 Birch St, Riverside, NY, 10001)</td><td>2024-02-05</td><td>+5678901234</td></tr><tr><td>david.jones@example.com</td><td>Jones</td><td>David</td><td>6</td><td>List(303 Cedar St, Hilltown, CO, 80201)</td><td>2024-02-10</td><td>+6789012345</td></tr><tr><td>eva.davis@example.com</td><td>Davis</td><td>Eva</td><td>7</td><td>List(404 Elm St, Sunnydale, AZ, 85001)</td><td>2024-02-15</td><td>+7890123456</td></tr><tr><td>frank.miller@example.com</td><td>Miller</td><td>Frank</td><td>8</td><td>List(505 Oak St, Greenwood, OR, 97001)</td><td>2024-02-20</td><td>+8901234567</td></tr><tr><td>grace.wilson@example.com</td><td>Wilson</td><td>Grace</td><td>9</td><td>List(606 Pine St, Oakville, MI, 48201)</td><td>2024-03-01</td><td>+9012345678</td></tr><tr><td>hank.moore@example.com</td><td>Moore</td><td>Hank</td><td>10</td><td>List(707 Maple St, Westfield, NJ, 07001)</td><td>2024-03-05</td><td>+0123456789</td></tr><tr><td>ivy.taylor@example.com</td><td>Taylor</td><td>Ivy</td><td>11</td><td>List(808 Birch St, Northville, VA, 20101)</td><td>2024-03-10</td><td>+1234567891</td></tr><tr><td>jack.anderson@example.com</td><td>Anderson</td><td>Jack</td><td>12</td><td>List(909 Cedar St, Southport, IL, 62721)</td><td>2024-03-15</td><td>+2345678901</td></tr><tr><td>karen.thomas@example.com</td><td>Thomas</td><td>Karen</td><td>13</td><td>List(1010 Elm St, Clearwater, GA, 30301)</td><td>2024-03-20</td><td>+3456789012</td></tr><tr><td>leo.jackson@example.com</td><td>Jackson</td><td>Leo</td><td>14</td><td>List(1111 Oak St, Brooklyn, NY, 11201)</td><td>2024-04-01</td><td>+4567890123</td></tr><tr><td>mia.white@example.com</td><td>White</td><td>Mia</td><td>15</td><td>List(1212 Pine St, Linden, CA, 90210)</td><td>2024-04-05</td><td>+5678901234</td></tr><tr><td>nina.harris@example.com</td><td>Harris</td><td>Nina</td><td>16</td><td>List(1313 Maple St, Elk Grove, IL, 60007)</td><td>2024-04-10</td><td>+6789012345</td></tr><tr><td>oscar.martin@example.com</td><td>Martin</td><td>Oscar</td><td>17</td><td>List(1414 Birch St, Woodland, TX, 75002)</td><td>2024-04-15</td><td>+7890123456</td></tr><tr><td>pam.thompson@example.com</td><td>Thompson</td><td>Pam</td><td>18</td><td>List(1515 Cedar St, Maplewood, FL, 33101)</td><td>2024-04-20</td><td>+8901234567</td></tr><tr><td>quinn.garcia@example.com</td><td>Garcia</td><td>Quinn</td><td>19</td><td>List(1616 Elm St, Silver Springs, CO, 80301)</td><td>2024-05-01</td><td>+9012345678</td></tr><tr><td>rita.martinez@example.com</td><td>Martinez</td><td>Rita</td><td>20</td><td>List(1717 Oak St, Spring Valley, OH, 44101)</td><td>2024-05-05</td><td>+0123456789</td></tr><tr><td>steve.robinson@example.com</td><td>Robinson</td><td>Steve</td><td>21</td><td>List(1818 Pine St, Greenfield, WI, 53201)</td><td>2024-05-10</td><td>+1234567890</td></tr><tr><td>tina.clark@example.com</td><td>Clark</td><td>Tina</td><td>22</td><td>List(1919 Maple St, Ridgefield, OR, 97002)</td><td>2024-05-15</td><td>+2345678901</td></tr><tr><td>ulysses.lewis@example.com</td><td>Lewis</td><td>Ulysses</td><td>23</td><td>List(2020 Birch St, Briarwood, MI, 48202)</td><td>2024-05-20</td><td>+3456789012</td></tr><tr><td>vera.walker@example.com</td><td>Walker</td><td>Vera</td><td>24</td><td>List(2121 Cedar St, Clearfield, PA, 19001)</td><td>2024-06-01</td><td>+4567890123</td></tr><tr><td>will.hall@example.com</td><td>Hall</td><td>Will</td><td>25</td><td>List(2222 Elm St, Masonville, AL, 35201)</td><td>2024-06-05</td><td>+5678901234</td></tr><tr><td>xena.young@example.com</td><td>Young</td><td>Xena</td><td>26</td><td>List(2323 Oak St, Northfield, WI, 53001)</td><td>2024-06-10</td><td>+6789012345</td></tr><tr><td>yosef.king@example.com</td><td>King</td><td>Yosef</td><td>27</td><td>List(2424 Pine St, Harrison, GA, 30302)</td><td>2024-06-15</td><td>+7890123456</td></tr><tr><td>zara.scott@example.com</td><td>Scott</td><td>Zara</td><td>28</td><td>List(2525 Maple St, Middletown, NJ, 07002)</td><td>2024-06-20</td><td>+8901234567</td></tr><tr><td>adam.green@example.com</td><td>Green</td><td>Adam</td><td>29</td><td>List(2626 Birch St, Bayview, CA, 94001)</td><td>2024-07-01</td><td>+9012345678</td></tr><tr><td>becky.adams@example.com</td><td>Adams</td><td>Becky</td><td>30</td><td>List(2727 Cedar St, Sunset, TX, 75003)</td><td>2024-07-05</td><td>+0123456789</td></tr></tbody></table></div>"
      ]
     },
     "metadata": {
      "application/vnd.databricks.v1+output": {
       "addedWidgets": {},
       "aggData": [],
       "aggError": "",
       "aggOverflow": false,
       "aggSchema": [],
       "aggSeriesLimitReached": false,
       "aggType": "",
       "arguments": {},
       "columnCustomDisplayInfos": {},
       "data": [
        [
         "john.doe@example.com",
         "Doe",
         "John",
         "1",
         [
          "123 Elm St",
          "Hometown",
          "CA",
          "90001"
         ],
         "2024-01-15",
         "+1234567890"
        ],
        [
         "jane.smith@example.com",
         "Smith",
         "Jane",
         "2",
         [
          "456 Oak St",
          "Newville",
          "TX",
          "75001"
         ],
         "2024-01-20",
         "+0987654321"
        ],
        [
         "alice.johnson@example.com",
         "Johnson",
         "Alice",
         "3",
         [
          "789 Pine St",
          "Oldtown",
          "FL",
          "32101"
         ],
         "2024-01-25",
         "+1230984567"
        ],
        [
         "bob.williams@example.com",
         "Williams",
         "Bob",
         "4",
         [
          "101 Maple St",
          "Lakeside",
          "WA",
          "98001"
         ],
         "2024-02-01",
         "+4567890123"
        ],
        [
         "charlie.brown@example.com",
         "Brown",
         "Charlie",
         "5",
         [
          "202 Birch St",
          "Riverside",
          "NY",
          "10001"
         ],
         "2024-02-05",
         "+5678901234"
        ],
        [
         "david.jones@example.com",
         "Jones",
         "David",
         "6",
         [
          "303 Cedar St",
          "Hilltown",
          "CO",
          "80201"
         ],
         "2024-02-10",
         "+6789012345"
        ],
        [
         "eva.davis@example.com",
         "Davis",
         "Eva",
         "7",
         [
          "404 Elm St",
          "Sunnydale",
          "AZ",
          "85001"
         ],
         "2024-02-15",
         "+7890123456"
        ],
        [
         "frank.miller@example.com",
         "Miller",
         "Frank",
         "8",
         [
          "505 Oak St",
          "Greenwood",
          "OR",
          "97001"
         ],
         "2024-02-20",
         "+8901234567"
        ],
        [
         "grace.wilson@example.com",
         "Wilson",
         "Grace",
         "9",
         [
          "606 Pine St",
          "Oakville",
          "MI",
          "48201"
         ],
         "2024-03-01",
         "+9012345678"
        ],
        [
         "hank.moore@example.com",
         "Moore",
         "Hank",
         "10",
         [
          "707 Maple St",
          "Westfield",
          "NJ",
          "07001"
         ],
         "2024-03-05",
         "+0123456789"
        ],
        [
         "ivy.taylor@example.com",
         "Taylor",
         "Ivy",
         "11",
         [
          "808 Birch St",
          "Northville",
          "VA",
          "20101"
         ],
         "2024-03-10",
         "+1234567891"
        ],
        [
         "jack.anderson@example.com",
         "Anderson",
         "Jack",
         "12",
         [
          "909 Cedar St",
          "Southport",
          "IL",
          "62721"
         ],
         "2024-03-15",
         "+2345678901"
        ],
        [
         "karen.thomas@example.com",
         "Thomas",
         "Karen",
         "13",
         [
          "1010 Elm St",
          "Clearwater",
          "GA",
          "30301"
         ],
         "2024-03-20",
         "+3456789012"
        ],
        [
         "leo.jackson@example.com",
         "Jackson",
         "Leo",
         "14",
         [
          "1111 Oak St",
          "Brooklyn",
          "NY",
          "11201"
         ],
         "2024-04-01",
         "+4567890123"
        ],
        [
         "mia.white@example.com",
         "White",
         "Mia",
         "15",
         [
          "1212 Pine St",
          "Linden",
          "CA",
          "90210"
         ],
         "2024-04-05",
         "+5678901234"
        ],
        [
         "nina.harris@example.com",
         "Harris",
         "Nina",
         "16",
         [
          "1313 Maple St",
          "Elk Grove",
          "IL",
          "60007"
         ],
         "2024-04-10",
         "+6789012345"
        ],
        [
         "oscar.martin@example.com",
         "Martin",
         "Oscar",
         "17",
         [
          "1414 Birch St",
          "Woodland",
          "TX",
          "75002"
         ],
         "2024-04-15",
         "+7890123456"
        ],
        [
         "pam.thompson@example.com",
         "Thompson",
         "Pam",
         "18",
         [
          "1515 Cedar St",
          "Maplewood",
          "FL",
          "33101"
         ],
         "2024-04-20",
         "+8901234567"
        ],
        [
         "quinn.garcia@example.com",
         "Garcia",
         "Quinn",
         "19",
         [
          "1616 Elm St",
          "Silver Springs",
          "CO",
          "80301"
         ],
         "2024-05-01",
         "+9012345678"
        ],
        [
         "rita.martinez@example.com",
         "Martinez",
         "Rita",
         "20",
         [
          "1717 Oak St",
          "Spring Valley",
          "OH",
          "44101"
         ],
         "2024-05-05",
         "+0123456789"
        ],
        [
         "steve.robinson@example.com",
         "Robinson",
         "Steve",
         "21",
         [
          "1818 Pine St",
          "Greenfield",
          "WI",
          "53201"
         ],
         "2024-05-10",
         "+1234567890"
        ],
        [
         "tina.clark@example.com",
         "Clark",
         "Tina",
         "22",
         [
          "1919 Maple St",
          "Ridgefield",
          "OR",
          "97002"
         ],
         "2024-05-15",
         "+2345678901"
        ],
        [
         "ulysses.lewis@example.com",
         "Lewis",
         "Ulysses",
         "23",
         [
          "2020 Birch St",
          "Briarwood",
          "MI",
          "48202"
         ],
         "2024-05-20",
         "+3456789012"
        ],
        [
         "vera.walker@example.com",
         "Walker",
         "Vera",
         "24",
         [
          "2121 Cedar St",
          "Clearfield",
          "PA",
          "19001"
         ],
         "2024-06-01",
         "+4567890123"
        ],
        [
         "will.hall@example.com",
         "Hall",
         "Will",
         "25",
         [
          "2222 Elm St",
          "Masonville",
          "AL",
          "35201"
         ],
         "2024-06-05",
         "+5678901234"
        ],
        [
         "xena.young@example.com",
         "Young",
         "Xena",
         "26",
         [
          "2323 Oak St",
          "Northfield",
          "WI",
          "53001"
         ],
         "2024-06-10",
         "+6789012345"
        ],
        [
         "yosef.king@example.com",
         "King",
         "Yosef",
         "27",
         [
          "2424 Pine St",
          "Harrison",
          "GA",
          "30302"
         ],
         "2024-06-15",
         "+7890123456"
        ],
        [
         "zara.scott@example.com",
         "Scott",
         "Zara",
         "28",
         [
          "2525 Maple St",
          "Middletown",
          "NJ",
          "07002"
         ],
         "2024-06-20",
         "+8901234567"
        ],
        [
         "adam.green@example.com",
         "Green",
         "Adam",
         "29",
         [
          "2626 Birch St",
          "Bayview",
          "CA",
          "94001"
         ],
         "2024-07-01",
         "+9012345678"
        ],
        [
         "becky.adams@example.com",
         "Adams",
         "Becky",
         "30",
         [
          "2727 Cedar St",
          "Sunset",
          "TX",
          "75003"
         ],
         "2024-07-05",
         "+0123456789"
        ]
       ],
       "datasetInfos": [],
       "dbfsResultPath": null,
       "isJsonSchema": true,
       "metadata": {},
       "overflow": false,
       "plotOptions": {
        "customPlotOptions": {},
        "displayType": "table",
        "pivotAggregation": null,
        "pivotColumns": null,
        "xColumns": null,
        "yColumns": null
       },
       "removedWidgets": [],
       "schema": [
        {
         "metadata": "{}",
         "name": "email",
         "type": "\"string\""
        },
        {
         "metadata": "{}",
         "name": "lastName",
         "type": "\"string\""
        },
        {
         "metadata": "{}",
         "name": "firstName",
         "type": "\"string\""
        },
        {
         "metadata": "{}",
         "name": "id",
         "type": "\"string\""
        },
        {
         "metadata": "{}",
         "name": "address",
         "type": "{\"type\":\"struct\",\"fields\":[{\"name\":\"street\",\"type\":\"string\",\"nullable\":true,\"metadata\":{}},{\"name\":\"city\",\"type\":\"string\",\"nullable\":true,\"metadata\":{}},{\"name\":\"state\",\"type\":\"string\",\"nullable\":true,\"metadata\":{}},{\"name\":\"zip\",\"type\":\"string\",\"nullable\":true,\"metadata\":{}}]}"
        },
        {
         "metadata": "{}",
         "name": "registrationDate",
         "type": "\"string\""
        },
        {
         "metadata": "{}",
         "name": "phone",
         "type": "\"string\""
        }
       ],
       "type": "table"
      }
     },
     "output_type": "display_data"
    }
   ],
   "source": [
    "cosmos_endpoint = \"https://cosmos-tutorial123.documents.azure.com:443/\"\n",
    "cosmos_master_key = \"X4v5gsUMA4UL6vp3IypCkW1DuA0XWsYXmQaz3smUKbtyEqu2wjagVC1OV3RGruIy4D7mYKAcXQPgACDbH5mtDw==\"\n",
    "cosmos_database = \"inputDB_id\"\n",
    "cosmos_container = \"input_id\"\n",
    "\n",
    "spark.conf.set(\"spark.cosmos.accountEndpoint\", cosmos_endpoint)\n",
    "spark.conf.set(\"spark.cosmos.accountKey\", cosmos_master_key.strip())\n",
    "spark.conf.set(\"spark.cosmos.database\", cosmos_database)\n",
    "spark.conf.set(\"spark.cosmos.container\", cosmos_container)\n",
    "\n",
    "df = spark.read.format(\"cosmos.oltp\") \\\n",
    "    .option(\"spark.cosmos.accountEndpoint\", cosmos_endpoint) \\\n",
    "    .option(\"spark.cosmos.accountKey\", cosmos_master_key.strip()) \\\n",
    "    .option(\"spark.cosmos.database\", cosmos_database) \\\n",
    "    .option(\"spark.cosmos.container\", cosmos_container) \\\n",
    "    .load()\n",
    "\n",
    "display(df)\n"
   ]
  },
  {
   "cell_type": "code",
   "execution_count": 0,
   "metadata": {
    "application/vnd.databricks.v1+cell": {
     "cellMetadata": {
      "byteLimit": 2048000,
      "rowLimit": 10000
     },
     "inputWidgets": {},
     "nuid": "cd7baa98-89bd-4191-8dea-179a813ab5c4",
     "showTitle": false,
     "title": ""
    }
   },
   "outputs": [
    {
     "output_type": "stream",
     "name": "stdout",
     "output_type": "stream",
     "text": [
      "+--------------------+--------+---------+---+--------------------+----------------+-----------+-----+\n|               email|lastName|firstName| id|             address|registrationDate|      phone|state|\n+--------------------+--------+---------+---+--------------------+----------------+-----------+-----+\n|jane.smith@exampl...|   Smith|     Jane|  2|{456 Oak St, Newv...|      2024-01-20|+0987654321|   TX|\n|oscar.martin@exam...|  Martin|    Oscar| 17|{1414 Birch St, W...|      2024-04-15|+7890123456|   TX|\n|becky.adams@examp...|   Adams|    Becky| 30|{2727 Cedar St, S...|      2024-07-05|+0123456789|   TX|\n+--------------------+--------+---------+---+--------------------+----------------+-----------+-----+\n\n"
     ]
    }
   ],
   "source": [
    "from pyspark.sql.functions import col\n",
    "\n",
    "\n",
    "df_transformed = df.withColumn(\n",
    "    \"state\", \n",
    "    col(\"address.state\")\n",
    ")\n",
    "\n",
    "df_filtered = df_transformed.filter(col(\"state\") == \"TX\")\n",
    "\n",
    "df_filtered.show()\n"
   ]
  },
  {
   "cell_type": "code",
   "execution_count": 0,
   "metadata": {
    "application/vnd.databricks.v1+cell": {
     "cellMetadata": {},
     "inputWidgets": {},
     "nuid": "230e7368-1f04-43fa-a392-1ecfa8f9a1d1",
     "showTitle": false,
     "title": ""
    }
   },
   "outputs": [],
   "source": []
  }
 ],
 "metadata": {
  "application/vnd.databricks.v1+notebook": {
   "dashboards": [],
   "environmentMetadata": null,
   "language": "python",
   "notebookMetadata": {
    "mostRecentlyExecutedCommandWithImplicitDF": {
     "commandId": -1,
     "dataframes": [
      "_sqldf"
     ]
    },
    "pythonIndentUnit": 4
   },
   "notebookName": "cars_notebook",
   "widgets": {}
  }
 },
 "nbformat": 4,
 "nbformat_minor": 0
}
